{
 "cells": [
  {
   "cell_type": "code",
   "execution_count": 5,
   "metadata": {},
   "outputs": [],
   "source": [
    "from statistics import mode\n",
    "import matplotlib.pyplot as plt\n",
    "import gspread as g\n",
    "import numpy as np\n",
    "\n",
    "x = [5,21,24,42,54,34,60,101,112,99]\n",
    "x = np.array(x)\n",
    "y = [7,22,28,52,63,90,55,122,131,199]\n",
    "y = np.array(y)\n",
    "\n",
    "gc = g.service_account(filename='unitydatascience-364706-1c1ce20c7b07.json')\n",
    "sh = gc.open(\"UnitySheets\").worksheet('Sheet2')\n",
    "\n",
    "def model(a, b, x):\n",
    "    return a * x + b\n",
    "\n",
    "def loss_function(a, b, x, y):\n",
    "    num = len(x)\n",
    "    prediction = model(a, b, x)\n",
    "    return (0.5 / num) * (np.square(prediction - y)).sum()\n",
    "\n",
    "def optimize(Lr, a, b, x, y):\n",
    "    num = len(x)\n",
    "    prediction = model(a, b, x)\n",
    "    da = (1.0 / num) * ((prediction - y) * x).sum()\n",
    "    db = (1.0 / num) * ((prediction - y).sum())\n",
    "    a = a - Lr * da\n",
    "    b = b - Lr * db\n",
    "    return a, b\n",
    "\n",
    "def iterate(Lr, a, b, x, y, times):\n",
    "    for i in range(times):\n",
    "        a, b = optimize(Lr, a, b, x, y)\n",
    "    return a,b  \n",
    "\n",
    "Lr = 0.000001\n",
    "\n",
    "a_rand = np.random.rand(1)\n",
    "b_rand = np.random.rand(1)\n",
    "\n",
    "a = np.copy(a_rand)\n",
    "b = np.copy(b_rand)\n",
    "iter_range = np.arange(1, 6) * 200\n",
    "iter_range = np.concatenate([[1], iter_range])\n",
    "\n",
    "a_loss = []\n",
    "\n",
    "for iter, num in enumerate(iter_range):\n",
    "    a,b = iterate(Lr, a,b,x,y, num)\n",
    "    prediction = model(a,b,x)\n",
    "    loss = loss_function(a, b, x, y)\n",
    "    a_loss.append(loss)\n",
    "\n",
    "    sh.update(('A' + str(iter + 1)), str(num))\n",
    "    sh.update(('B' + str(iter + 1)), f\"{a[0]:.3f}\".replace('.',','))\n",
    "    sh.update(('C' + str(iter + 1)), f\"{b[0]:.3f}\".replace('.',','))\n",
    "    sh.update(('D' + str(iter + 1)), f\"{loss:.3f}\".replace('.',','))"
   ]
  }
 ],
 "metadata": {
  "kernelspec": {
   "display_name": "Python 3.9.12 ('base')",
   "language": "python",
   "name": "python3"
  },
  "language_info": {
   "codemirror_mode": {
    "name": "ipython",
    "version": 3
   },
   "file_extension": ".py",
   "mimetype": "text/x-python",
   "name": "python",
   "nbconvert_exporter": "python",
   "pygments_lexer": "ipython3",
   "version": "3.9.12"
  },
  "orig_nbformat": 4,
  "vscode": {
   "interpreter": {
    "hash": "129aa8c2c6f3764fbb7d9b6f03c14ba357dd49f0e95f0866a6ed0e95063015ed"
   }
  }
 },
 "nbformat": 4,
 "nbformat_minor": 2
}
