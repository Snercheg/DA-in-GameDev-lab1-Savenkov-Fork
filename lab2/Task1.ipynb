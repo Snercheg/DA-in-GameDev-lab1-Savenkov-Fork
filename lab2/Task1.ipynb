{
 "cells": [
  {
   "cell_type": "code",
   "execution_count": 1,
   "id": "a459af8d",
   "metadata": {},
   "outputs": [],
   "source": [
    "import gspread as g\n",
    "import numpy as np\n",
    "\n",
    "gc = g.service_account(filename=\"unitydatascience-364706-1c1ce20c7b07.json\")\n",
    "sh = gc.open(\"UnitySheets\").worksheet('Sheet1')\n",
    "price = np.random.randint(2000, 10000, 11)\n",
    "\n",
    "for i in range(1, 11):\n",
    "    inf = ((price[i] - price[i - 1]) / price[i-1]) * 100\n",
    "\n",
    "    sh.update(('A' + str(i)), str(i))\n",
    "    sh.update(('B' + str(i)), str(price[i]))\n",
    "    sh.update(('C' + str(i)), f\"{inf:.3f}\".replace(\".\", \",\"))\n"
   ]
  },
  {
   "cell_type": "code",
   "execution_count": null,
   "id": "aa39fc75",
   "metadata": {},
   "outputs": [],
   "source": []
  },
  {
   "cell_type": "code",
   "execution_count": null,
   "id": "9f0c97e1",
   "metadata": {},
   "outputs": [],
   "source": []
  },
  {
   "cell_type": "code",
   "execution_count": null,
   "id": "03e64d0f",
   "metadata": {},
   "outputs": [],
   "source": []
  },
  {
   "cell_type": "code",
   "execution_count": null,
   "id": "fee4baa7",
   "metadata": {},
   "outputs": [],
   "source": []
  },
  {
   "cell_type": "code",
   "execution_count": null,
   "id": "13b9b930",
   "metadata": {},
   "outputs": [],
   "source": []
  },
  {
   "cell_type": "code",
   "execution_count": null,
   "id": "b61f2cff",
   "metadata": {},
   "outputs": [],
   "source": []
  }
 ],
 "metadata": {
  "kernelspec": {
   "display_name": "Python 3.9.12 ('base')",
   "language": "python",
   "name": "python3"
  },
  "language_info": {
   "codemirror_mode": {
    "name": "ipython",
    "version": 3
   },
   "file_extension": ".py",
   "mimetype": "text/x-python",
   "name": "python",
   "nbconvert_exporter": "python",
   "pygments_lexer": "ipython3",
   "version": "3.9.12"
  },
  "vscode": {
   "interpreter": {
    "hash": "129aa8c2c6f3764fbb7d9b6f03c14ba357dd49f0e95f0866a6ed0e95063015ed"
   }
  }
 },
 "nbformat": 4,
 "nbformat_minor": 5
}
